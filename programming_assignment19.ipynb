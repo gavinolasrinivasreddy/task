{
  "nbformat": 4,
  "nbformat_minor": 0,
  "metadata": {
    "colab": {
      "provenance": []
    },
    "kernelspec": {
      "name": "python3",
      "display_name": "Python 3"
    },
    "language_info": {
      "name": "python"
    }
  },
  "cells": [
    {
      "cell_type": "markdown",
      "source": [
        "Create a function that takes a string and returns a string in which each character is repeated\n",
        "once.\n",
        "double_char(&quot;String&quot;) ➞ &quot;SSttrriinngg&quot;\n",
        "double_char(&quot;Hello World!&quot;) ➞ &quot;HHeelllloo WWoorrlldd!!&quot;\n",
        "double_char(&quot;1234!_ &quot;) ➞ &quot;11223344!!__ &quot;"
      ],
      "metadata": {
        "id": "oAFWL2IR9ByY"
      }
    },
    {
      "cell_type": "code",
      "execution_count": null,
      "metadata": {
        "id": "9cbqHbt_86dd"
      },
      "outputs": [],
      "source": [
        "def double_char(str):\n",
        "  a = ''\n",
        "  for i in str:\n",
        "    a = a+i+i\n",
        "  print(a)\n",
        "\n"
      ]
    },
    {
      "cell_type": "code",
      "source": [
        "double_char(\"HHeelllloo WWoorrlldd!!\")"
      ],
      "metadata": {
        "colab": {
          "base_uri": "https://localhost:8080/"
        },
        "id": "SCF6ipspANaY",
        "outputId": "30c0e2ea-571e-4ecf-fb1a-d3bbdc5f9345"
      },
      "execution_count": null,
      "outputs": [
        {
          "output_type": "stream",
          "name": "stdout",
          "text": [
            "HHHHeeeelllllllloooo  WWWWoooorrrrlllldddd!!!!\n"
          ]
        }
      ]
    },
    {
      "cell_type": "code",
      "source": [
        "double_char(\"Hello World!\")"
      ],
      "metadata": {
        "colab": {
          "base_uri": "https://localhost:8080/"
        },
        "id": "Ghc37jVHAauc",
        "outputId": "6d7fa795-dbae-476b-8bac-bc8754c4140c"
      },
      "execution_count": null,
      "outputs": [
        {
          "output_type": "stream",
          "name": "stdout",
          "text": [
            "HHeelllloo  WWoorrlldd!!\n"
          ]
        }
      ]
    },
    {
      "cell_type": "code",
      "source": [
        "double_char(\"1234!_ \")"
      ],
      "metadata": {
        "colab": {
          "base_uri": "https://localhost:8080/"
        },
        "id": "2oGZ3cTmAi_d",
        "outputId": "7ae51877-61d8-43a8-cc3a-ffef159a3d15"
      },
      "execution_count": null,
      "outputs": [
        {
          "output_type": "stream",
          "name": "stdout",
          "text": [
            "11223344!!__  \n"
          ]
        }
      ]
    },
    {
      "cell_type": "markdown",
      "source": [
        "Create a function that reverses a boolean value and returns the string &quot;boolean expected&quot;\n",
        "if another variable type is given."
      ],
      "metadata": {
        "id": "Tuv5KuqIBKY0"
      }
    },
    {
      "cell_type": "code",
      "source": [
        "def bool(res):\n",
        "  if res == True:\n",
        "    print(False)\n",
        "  elif res==0:\n",
        "    print(\"boolean expected\")\n",
        "  elif res =='none':\n",
        "    print(\"boolean expected\")\n",
        "  else:\n",
        "    print(True)"
      ],
      "metadata": {
        "id": "Isjw8WQkApzT"
      },
      "execution_count": null,
      "outputs": []
    },
    {
      "cell_type": "code",
      "source": [
        "bool(True)"
      ],
      "metadata": {
        "colab": {
          "base_uri": "https://localhost:8080/"
        },
        "id": "H5Ve7hltBEZN",
        "outputId": "028a7ae9-7930-4a0c-d091-b61211a181ae"
      },
      "execution_count": null,
      "outputs": [
        {
          "output_type": "stream",
          "name": "stdout",
          "text": [
            "False\n"
          ]
        }
      ]
    },
    {
      "cell_type": "code",
      "source": [
        "bool(False)"
      ],
      "metadata": {
        "colab": {
          "base_uri": "https://localhost:8080/"
        },
        "id": "gy6mAVMGBpPn",
        "outputId": "f641a4d7-e29f-4c96-d9ad-2306eb49f3ea"
      },
      "execution_count": null,
      "outputs": [
        {
          "output_type": "stream",
          "name": "stdout",
          "text": [
            "boolean expected\n"
          ]
        }
      ]
    },
    {
      "cell_type": "code",
      "source": [
        "bool('none')"
      ],
      "metadata": {
        "colab": {
          "base_uri": "https://localhost:8080/"
        },
        "id": "8U6yj9hGBw4l",
        "outputId": "84249b58-c0ae-4754-e56a-45d0432229c5"
      },
      "execution_count": null,
      "outputs": [
        {
          "output_type": "stream",
          "name": "stdout",
          "text": [
            "boolean expected\n"
          ]
        }
      ]
    },
    {
      "cell_type": "markdown",
      "source": [
        "Create a function that returns the thickness (in meters) of a piece of paper after folding it n\n",
        "number of times. The paper starts off with a thickness of 0.5mm."
      ],
      "metadata": {
        "id": "iBiFW4oFCYvG"
      }
    },
    {
      "cell_type": "code",
      "source": [
        "def thickness(x):\n",
        "  final_thickness = (0.5*(2**x))\n",
        "  print(f\"{x} flodings give thickness {final_thickness} mm or {final_thickness*0.001} m\")"
      ],
      "metadata": {
        "id": "ObFn5JxMCC9T"
      },
      "execution_count": null,
      "outputs": []
    },
    {
      "cell_type": "code",
      "source": [
        "thickness(1)"
      ],
      "metadata": {
        "colab": {
          "base_uri": "https://localhost:8080/"
        },
        "id": "xV_5YNA0DLX1",
        "outputId": "ace6f1b9-f219-462f-9df2-b2f1f0f4d58c"
      },
      "execution_count": null,
      "outputs": [
        {
          "output_type": "stream",
          "name": "stdout",
          "text": [
            "1 flodings give thickness 1.0 mm or 0.001 m\n"
          ]
        }
      ]
    },
    {
      "cell_type": "code",
      "source": [
        "thickness(4)"
      ],
      "metadata": {
        "colab": {
          "base_uri": "https://localhost:8080/"
        },
        "id": "693_aY_nDOsj",
        "outputId": "cd14c2e7-5b71-43ea-a0ec-f88484fe8993"
      },
      "execution_count": null,
      "outputs": [
        {
          "output_type": "stream",
          "name": "stdout",
          "text": [
            "4 flodings give thickness 8.0 mm or 0.008 m\n"
          ]
        }
      ]
    },
    {
      "cell_type": "code",
      "source": [
        "thickness(21)"
      ],
      "metadata": {
        "colab": {
          "base_uri": "https://localhost:8080/"
        },
        "id": "tRELUczTDvdt",
        "outputId": "7c793202-1935-435c-a161-971554addf95"
      },
      "execution_count": null,
      "outputs": [
        {
          "output_type": "stream",
          "name": "stdout",
          "text": [
            "21 flodings give thickness 1048576.0 mm or 1048.576 m\n"
          ]
        }
      ]
    },
    {
      "cell_type": "markdown",
      "source": [
        "Create a function that takes a single string as argument and returns an ordered list containing\n",
        "the indices of all capital letters in the string."
      ],
      "metadata": {
        "id": "8OQZzZ8zHxBf"
      }
    },
    {
      "cell_type": "code",
      "source": [
        "def cap(test_str):\n",
        "  list =[]\n",
        "  for i in range(len(test_str)):\n",
        "    if (test_str[i].isupper()):\n",
        "      list.append(i)\n",
        "  print(list)"
      ],
      "metadata": {
        "id": "4FJyN0DBD09C"
      },
      "execution_count": null,
      "outputs": []
    },
    {
      "cell_type": "code",
      "source": [
        "cap(\"eDaBiT\")"
      ],
      "metadata": {
        "colab": {
          "base_uri": "https://localhost:8080/"
        },
        "id": "33WB-EdmIbOy",
        "outputId": "0d089726-543f-4e39-e12b-305fd6024889"
      },
      "execution_count": null,
      "outputs": [
        {
          "output_type": "stream",
          "name": "stdout",
          "text": [
            "[1, 3, 5]\n"
          ]
        }
      ]
    },
    {
      "cell_type": "markdown",
      "source": [
        "Using list comprehensions, create a function that finds all even numbers from 1 to the given\n",
        "number."
      ],
      "metadata": {
        "id": "u9ndGKZljOAM"
      }
    },
    {
      "cell_type": "code",
      "source": [
        "\n",
        "n = int(input(\"enter any number\"))\n",
        "[i  for i in range(n) if i%2==0 ]   "
      ],
      "metadata": {
        "id": "bKWQwc1eIi0K",
        "colab": {
          "base_uri": "https://localhost:8080/"
        },
        "outputId": "b9011ed3-57bb-47a4-8d85-fb187fb90e96"
      },
      "execution_count": 18,
      "outputs": [
        {
          "name": "stdout",
          "output_type": "stream",
          "text": [
            "enter any number8\n"
          ]
        },
        {
          "output_type": "execute_result",
          "data": {
            "text/plain": [
              "[0, 2, 4, 6]"
            ]
          },
          "metadata": {},
          "execution_count": 18
        }
      ]
    },
    {
      "cell_type": "code",
      "source": [],
      "metadata": {
        "id": "S2IOLgEOlDO1"
      },
      "execution_count": null,
      "outputs": []
    }
  ]
}