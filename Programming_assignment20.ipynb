{
  "nbformat": 4,
  "nbformat_minor": 0,
  "metadata": {
    "colab": {
      "provenance": []
    },
    "kernelspec": {
      "name": "python3",
      "display_name": "Python 3"
    },
    "language_info": {
      "name": "python"
    }
  },
  "cells": [
    {
      "cell_type": "markdown",
      "source": [
        "Create a function that takes a list of strings and integers, and filters out the list so that it\n",
        "returns a list of integers only.\n",
        "filter_list([&quot;A&quot;, 0, &quot;Edabit&quot;, 1729, &quot;Python&quot;, &quot;1729&quot;]) ➞ [0, 1729]\n",
        "filter_list([&quot;Nothing&quot;, &quot;here&quot;]) ➞ []"
      ],
      "metadata": {
        "id": "gOx8hbufoC2j"
      }
    },
    {
      "cell_type": "code",
      "execution_count": null,
      "metadata": {
        "id": "hjbV8-y9oBG2"
      },
      "outputs": [],
      "source": [
        "def test(list):\n",
        " list1 =[]\n",
        " list2 = []\n",
        " for i in list:\n",
        "   if type(i) == int:\n",
        "     list1.append(i)\n",
        "   else:\n",
        "      list2.append(i)\n",
        " print(list1)\n",
        " print(list2)\n"
      ]
    },
    {
      "cell_type": "code",
      "source": [
        "filter_list = [1, 2, 3, \"a\",\"b\" ,4]\n",
        "\n",
        "test(filter_list)\n"
      ],
      "metadata": {
        "colab": {
          "base_uri": "https://localhost:8080/"
        },
        "id": "6L-C_OXmo27k",
        "outputId": "9ec29bf3-2f10-4976-97c7-3df51a6cf535"
      },
      "execution_count": null,
      "outputs": [
        {
          "output_type": "stream",
          "name": "stdout",
          "text": [
            "[1, 2, 3, 4]\n",
            "['a', 'b']\n"
          ]
        }
      ]
    },
    {
      "cell_type": "code",
      "source": [
        "l =[\"A\", 0, \"Edabit\", 1729, \"Python\", \"1729\"]\n",
        "test(l)"
      ],
      "metadata": {
        "colab": {
          "base_uri": "https://localhost:8080/"
        },
        "id": "EP6ZUQQ1pvIc",
        "outputId": "c6f34ce2-014f-4bdb-bab7-173cdd74c3b6"
      },
      "execution_count": null,
      "outputs": [
        {
          "output_type": "stream",
          "name": "stdout",
          "text": [
            "[0, 1729]\n",
            "['A', 'Edabit', 'Python', '1729']\n"
          ]
        }
      ]
    },
    {
      "cell_type": "code",
      "source": [
        "l1= [\"Nothing\", \"here\"]\n",
        "test(l1)"
      ],
      "metadata": {
        "colab": {
          "base_uri": "https://localhost:8080/"
        },
        "id": "wgqZXRPeqF7A",
        "outputId": "3e9a7c79-1d84-4799-bff0-9b247d2229cf"
      },
      "execution_count": null,
      "outputs": [
        {
          "output_type": "stream",
          "name": "stdout",
          "text": [
            "[]\n",
            "['Nothing', 'here']\n"
          ]
        }
      ]
    },
    {
      "cell_type": "markdown",
      "source": [
        "Given a list of numbers, create a function which returns the list but with each element&#39;s\n",
        "index in the list added to itself. This means you add 0 to the number at index 0, add 1 to the\n",
        "number at index 1, etc...\n",
        "Examples\n",
        "add_indexes([0, 0, 0, 0, 0]) ➞ [0, 1, 2, 3, 4]\n",
        "add_indexes([1, 2, 3, 4, 5]) ➞ [1, 3, 5, 7, 9]\n",
        "add_indexes([5, 4, 3, 2, 1]) ➞ [5, 5, 5, 5, 5]"
      ],
      "metadata": {
        "id": "jV_MDrqvql7J"
      }
    },
    {
      "cell_type": "code",
      "source": [
        "def test1(list):\n",
        "    l =[]\n",
        "    for i in range(len(list)):\n",
        "      l.append(i+list[i])\n",
        "    print(l)\n",
        "   \n"
      ],
      "metadata": {
        "id": "xYlfBzisqSq-"
      },
      "execution_count": null,
      "outputs": []
    },
    {
      "cell_type": "code",
      "source": [
        "l2 =[0, 0, 0, 0, 0]\n",
        "test1(l2)"
      ],
      "metadata": {
        "colab": {
          "base_uri": "https://localhost:8080/"
        },
        "id": "HZicp9cgrWGz",
        "outputId": "beb8658a-ec68-4f3d-9734-089fa679b358"
      },
      "execution_count": null,
      "outputs": [
        {
          "output_type": "stream",
          "name": "stdout",
          "text": [
            "[0, 1, 2, 3, 4]\n"
          ]
        }
      ]
    },
    {
      "cell_type": "code",
      "source": [
        "l3 = [1,2,3,4,5]\n",
        "l4 = [1,3,5,7,9]\n",
        "l5 = [5,4,3,2,1]\n",
        "test1(l3)\n",
        "test1(l4)\n",
        "test1(l5)"
      ],
      "metadata": {
        "colab": {
          "base_uri": "https://localhost:8080/"
        },
        "id": "hdmuFGs-rdAi",
        "outputId": "3f490512-9d59-4964-d897-a68c2ec4f16b"
      },
      "execution_count": null,
      "outputs": [
        {
          "output_type": "stream",
          "name": "stdout",
          "text": [
            "[1, 3, 5, 7, 9]\n",
            "[1, 4, 7, 10, 13]\n",
            "[5, 5, 5, 5, 5]\n"
          ]
        }
      ]
    },
    {
      "cell_type": "markdown",
      "source": [
        "Create a function that takes a list of numbers between 1 and 10 (excluding one number) and\n",
        "returns the missing number.\n",
        "Examples\n",
        "missing_num([1, 2, 3, 4, 6, 7, 8, 9, 10]) ➞ 5\n",
        "missing_num([7, 2, 3, 6, 5, 9, 1, 4, 8]) ➞ 10\n",
        "missing_num([10, 5, 1, 2, 4, 6, 8, 3, 9]) ➞ 7"
      ],
      "metadata": {
        "id": "77XTm604t0y1"
      }
    },
    {
      "cell_type": "code",
      "source": [],
      "metadata": {
        "id": "vxGFgBbbwR1K"
      },
      "execution_count": null,
      "outputs": []
    },
    {
      "cell_type": "code",
      "source": [],
      "metadata": {
        "id": "Le_lUWem9pCn"
      },
      "execution_count": null,
      "outputs": []
    },
    {
      "cell_type": "markdown",
      "source": [
        "Create a function that takes the height and radius of a cone as arguments and returns the\n",
        "volume of the cone rounded to the nearest hundredth. See the resources tab for the formula."
      ],
      "metadata": {
        "id": "b3mrEf849rdz"
      }
    },
    {
      "cell_type": "code",
      "source": [
        "def cone_volume(h,r):\n",
        "  res = (3.14*(r**2)*h)/3\n",
        "  print(res)"
      ],
      "metadata": {
        "id": "obze-E2e9pFQ"
      },
      "execution_count": 6,
      "outputs": []
    },
    {
      "cell_type": "code",
      "source": [
        "cone_volume(3,2)"
      ],
      "metadata": {
        "colab": {
          "base_uri": "https://localhost:8080/"
        },
        "id": "6JQU0DbY9pJJ",
        "outputId": "17dbd40b-d2f2-4fe6-9abe-f9edb297e934"
      },
      "execution_count": 7,
      "outputs": [
        {
          "output_type": "stream",
          "name": "stdout",
          "text": [
            "12.56\n"
          ]
        }
      ]
    },
    {
      "cell_type": "code",
      "source": [
        "cone_volume(15,6)"
      ],
      "metadata": {
        "colab": {
          "base_uri": "https://localhost:8080/"
        },
        "id": "WBz2t6Pj9pKq",
        "outputId": "4295330b-e5bf-4060-9e1c-f68aeb29df33"
      },
      "execution_count": 8,
      "outputs": [
        {
          "output_type": "stream",
          "name": "stdout",
          "text": [
            "565.2\n"
          ]
        }
      ]
    },
    {
      "cell_type": "code",
      "source": [
        "cone_volume(18,0)"
      ],
      "metadata": {
        "colab": {
          "base_uri": "https://localhost:8080/"
        },
        "id": "eGwV8ve89pPe",
        "outputId": "94411ee1-76ac-4753-8948-f00c711f585a"
      },
      "execution_count": 9,
      "outputs": [
        {
          "output_type": "stream",
          "name": "stdout",
          "text": [
            "0.0\n"
          ]
        }
      ]
    },
    {
      "cell_type": "markdown",
      "source": [
        "This Triangular Number Sequence is generated from a pattern of dots that form a triangle.\n",
        "The first 5 numbers of the sequence, or dots, are:\n",
        "1, 3, 6, 10, 15\n",
        "This means that the first triangle has just one dot, the second one has three dots, the third one\n",
        "has 6 dots and so on.\n",
        "Write a function that gives the number of dots with its corresponding triangle number of the\n",
        "sequence.\n"
      ],
      "metadata": {
        "id": "aCH5uAq3_Gbi"
      }
    },
    {
      "cell_type": "code",
      "source": [
        "def triangle (n):\n",
        "  for i in range(n):\n",
        "    "
      ],
      "metadata": {
        "id": "RYZi5zdf_FFE"
      },
      "execution_count": null,
      "outputs": []
    },
    {
      "cell_type": "code",
      "source": [
        "def triangle(n):\n",
        "  sum = 0\n",
        "  for i in range(n+1):\n",
        "    sum += i\n",
        "  print(sum)\n"
      ],
      "metadata": {
        "id": "dj71ntGY9pRP"
      },
      "execution_count": 17,
      "outputs": []
    },
    {
      "cell_type": "code",
      "source": [
        "triangle(1)\n",
        "triangle(6)\n",
        "triangle(215)"
      ],
      "metadata": {
        "colab": {
          "base_uri": "https://localhost:8080/"
        },
        "id": "rZfaXWJ79pVV",
        "outputId": "98197712-05a1-4fcd-ae8a-d487a57d2b89"
      },
      "execution_count": 18,
      "outputs": [
        {
          "output_type": "stream",
          "name": "stdout",
          "text": [
            "1\n",
            "21\n",
            "23220\n"
          ]
        }
      ]
    },
    {
      "cell_type": "code",
      "source": [],
      "metadata": {
        "id": "O7V3nbtZGKXy"
      },
      "execution_count": null,
      "outputs": []
    }
  ]
}