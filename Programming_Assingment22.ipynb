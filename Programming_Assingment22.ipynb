{
  "nbformat": 4,
  "nbformat_minor": 0,
  "metadata": {
    "colab": {
      "provenance": []
    },
    "kernelspec": {
      "name": "python3",
      "display_name": "Python 3"
    },
    "language_info": {
      "name": "python"
    }
  },
  "cells": [
    {
      "cell_type": "markdown",
      "source": [
        "Create a function that takes three parameters where:\n",
        " x is the start of the range (inclusive).\n",
        " y is the end of the range (inclusive).\n",
        " n is the divisor to be checked against.\n",
        "Return an ordered list with numbers in the range that are divisible by the third parameter n.\n",
        "Return an empty list if there are no numbers that are divisible by n.\n",
        "Examples\n",
        "list_operation(1, 10, 3) ➞ [3, 6, 9]\n",
        "list_operation(7, 9, 2) ➞ [8]\n",
        "list_operation(15, 20, 7) ➞ []\n"
      ],
      "metadata": {
        "id": "gs7APKJbGFu5"
      }
    },
    {
      "cell_type": "code",
      "execution_count": null,
      "metadata": {
        "id": "jttzg6U4GAUL"
      },
      "outputs": [],
      "source": [
        "def test(x,y,n):\n",
        "  res = []\n",
        "  for i in range(x,y):\n",
        "    if i%n==0:\n",
        "      res.append(i)\n",
        "  return res\n"
      ]
    },
    {
      "cell_type": "code",
      "source": [
        "test(1, 10, 3)"
      ],
      "metadata": {
        "colab": {
          "base_uri": "https://localhost:8080/"
        },
        "id": "_HYv5UH9GlXL",
        "outputId": "83ee1fb1-2c7d-432b-a937-cfe8d8459286"
      },
      "execution_count": null,
      "outputs": [
        {
          "output_type": "execute_result",
          "data": {
            "text/plain": [
              "[3, 6, 9]"
            ]
          },
          "metadata": {},
          "execution_count": 2
        }
      ]
    },
    {
      "cell_type": "code",
      "source": [
        "test(7, 9, 2)"
      ],
      "metadata": {
        "colab": {
          "base_uri": "https://localhost:8080/"
        },
        "id": "stFXKOi4GuAE",
        "outputId": "3a2eb39e-f80e-40bc-8df1-df9a31e37372"
      },
      "execution_count": null,
      "outputs": [
        {
          "output_type": "execute_result",
          "data": {
            "text/plain": [
              "[8]"
            ]
          },
          "metadata": {},
          "execution_count": 3
        }
      ]
    },
    {
      "cell_type": "code",
      "source": [
        "test(15, 20, 7)"
      ],
      "metadata": {
        "colab": {
          "base_uri": "https://localhost:8080/"
        },
        "id": "sij0QLP0Gyf7",
        "outputId": "3496d847-80ac-4def-c3dd-04d10d98ca0d"
      },
      "execution_count": null,
      "outputs": [
        {
          "output_type": "execute_result",
          "data": {
            "text/plain": [
              "[]"
            ]
          },
          "metadata": {},
          "execution_count": 4
        }
      ]
    },
    {
      "cell_type": "markdown",
      "source": [
        "Create a function that takes in two lists and returns True if the second list follows the first list\n",
        "by one element, and False otherwise. In other words, determine if the second list is the first\n",
        "list shifted to the right by 1.\n",
        "Examples\n",
        "simon_says([1, 2], [5, 1]) ➞ True\n",
        "simon_says([1, 2], [5, 5]) ➞ False\n",
        "simon_says([1, 2, 3, 4, 5], [0, 1, 2, 3, 4]) ➞ True\n",
        "simon_says([1, 2, 3, 4, 5], [5, 5, 1, 2, 3]) ➞ False\n",
        "Notes\n",
        " Both input lists will be of the same length, and will have a minimum length of 2.\n",
        " The values of the 0-indexed element in the second list and the n-1th indexed element\n",
        "in the first list do not matter."
      ],
      "metadata": {
        "id": "iIhMmeoLIiT5"
      }
    },
    {
      "cell_type": "code",
      "source": [
        "def simon_says(list1,list2):\n",
        "    if list1[0:len(list1)-1] == list2[1:len(list2)]:\n",
        "        return True\n",
        "    return False"
      ],
      "metadata": {
        "id": "CTn0HPKPG2dO"
      },
      "execution_count": null,
      "outputs": []
    },
    {
      "cell_type": "code",
      "source": [
        "simon_says([1, 2], [5, 1])"
      ],
      "metadata": {
        "colab": {
          "base_uri": "https://localhost:8080/"
        },
        "id": "z1h2SjDtIzcp",
        "outputId": "b5167118-a64d-400b-bb23-1754f98112c7"
      },
      "execution_count": null,
      "outputs": [
        {
          "output_type": "execute_result",
          "data": {
            "text/plain": [
              "True"
            ]
          },
          "metadata": {},
          "execution_count": 6
        }
      ]
    },
    {
      "cell_type": "code",
      "source": [
        "simon_says([1, 2], [5, 5])"
      ],
      "metadata": {
        "colab": {
          "base_uri": "https://localhost:8080/"
        },
        "id": "PKHsNWtcI2xV",
        "outputId": "2c5da70d-0567-4d44-dcb2-7c7ad82fc460"
      },
      "execution_count": null,
      "outputs": [
        {
          "output_type": "execute_result",
          "data": {
            "text/plain": [
              "False"
            ]
          },
          "metadata": {},
          "execution_count": 7
        }
      ]
    },
    {
      "cell_type": "code",
      "source": [
        "\n",
        "simon_says([1, 2, 3, 4, 5], [0, 1, 2, 3, 4])"
      ],
      "metadata": {
        "colab": {
          "base_uri": "https://localhost:8080/"
        },
        "id": "XNdZnoyvI5nG",
        "outputId": "3d4f5d74-d3a2-461d-c500-ff698fc32759"
      },
      "execution_count": null,
      "outputs": [
        {
          "output_type": "execute_result",
          "data": {
            "text/plain": [
              "True"
            ]
          },
          "metadata": {},
          "execution_count": 8
        }
      ]
    },
    {
      "cell_type": "code",
      "source": [
        "simon_says([1, 2, 3, 4, 5], [5, 5, 1, 2, 3])"
      ],
      "metadata": {
        "colab": {
          "base_uri": "https://localhost:8080/"
        },
        "id": "l6UvqgH5I8El",
        "outputId": "eb3d4230-76ab-4ccd-ecab-38b6d53986af"
      },
      "execution_count": null,
      "outputs": [
        {
          "output_type": "execute_result",
          "data": {
            "text/plain": [
              "False"
            ]
          },
          "metadata": {},
          "execution_count": 9
        }
      ]
    },
    {
      "cell_type": "markdown",
      "source": [
        "A group of friends have decided to start a secret society. The name will be the first letter of\n",
        "each of their names, sorted in alphabetical order.\n",
        "Create a function that takes in a list of names and returns the name of the secret society.\n",
        "\n",
        "Examples\n",
        "society_name(['Adam', 'Sarah', 'Malcolm']) ➞ 'AMS'\n",
        "society_name(['Harry', 'Newt', 'Luna', 'Cho']) ➞ 'CHLN'\n",
        "society_name(['Phoebe', 'Chandler', 'Rachel', 'Ross', 'Monica', 'Joey'])"
      ],
      "metadata": {
        "id": "ezFB49_VJTxP"
      }
    },
    {
      "cell_type": "code",
      "source": [
        "def society_name(list):\n",
        "  list1 =[]\n",
        "  for i in list:\n",
        "    list1.append(i[0])\n",
        "  return ''.join(sorted(list1))"
      ],
      "metadata": {
        "id": "lpEi_TWRI946"
      },
      "execution_count": null,
      "outputs": []
    },
    {
      "cell_type": "code",
      "source": [
        "society_name(['Adam', 'Sarah', 'Malcolm'])"
      ],
      "metadata": {
        "colab": {
          "base_uri": "https://localhost:8080/",
          "height": 36
        },
        "id": "ekb1J8YkJyps",
        "outputId": "ec25f6b9-8fc0-4238-f528-b770ce974a06"
      },
      "execution_count": null,
      "outputs": [
        {
          "output_type": "execute_result",
          "data": {
            "text/plain": [
              "'AMS'"
            ],
            "application/vnd.google.colaboratory.intrinsic+json": {
              "type": "string"
            }
          },
          "metadata": {},
          "execution_count": 19
        }
      ]
    },
    {
      "cell_type": "code",
      "source": [
        "society_name(['Harry', 'Newt', 'Luna', 'Cho'])"
      ],
      "metadata": {
        "colab": {
          "base_uri": "https://localhost:8080/",
          "height": 36
        },
        "id": "y-pH4ZnCJ7xt",
        "outputId": "145447a1-bcd2-464a-d7a2-9fca000c2e9a"
      },
      "execution_count": null,
      "outputs": [
        {
          "output_type": "execute_result",
          "data": {
            "text/plain": [
              "'CHLN'"
            ],
            "application/vnd.google.colaboratory.intrinsic+json": {
              "type": "string"
            }
          },
          "metadata": {},
          "execution_count": 20
        }
      ]
    },
    {
      "cell_type": "code",
      "source": [
        "society_name(['Phoebe', 'Chandler', 'Rachel', 'Ross', 'Monica', 'Joey'])"
      ],
      "metadata": {
        "colab": {
          "base_uri": "https://localhost:8080/",
          "height": 36
        },
        "id": "20rfWZ3pK-AO",
        "outputId": "264367d6-15b7-4157-cfb3-69bfcc727db4"
      },
      "execution_count": null,
      "outputs": [
        {
          "output_type": "execute_result",
          "data": {
            "text/plain": [
              "'CJMPRR'"
            ],
            "application/vnd.google.colaboratory.intrinsic+json": {
              "type": "string"
            }
          },
          "metadata": {},
          "execution_count": 21
        }
      ]
    },
    {
      "cell_type": "markdown",
      "source": [
        "An isogram is a word that has no duplicate letters. Create a function that takes a string and\n",
        "returns either True or False depending on whether or not it's an 'isogram'.\n",
        "Examples\n",
        "is_isogram('Algorism') ➞ True\n",
        "is_isogram('PasSword') ➞ False\n",
        "# Not case sensitive.\n",
        "is_isogram('Consecutive') ➞ False\n",
        "Notes\n",
        " Ignore letter case (should not be case sensitive).\n",
        " All test cases contain valid one word strings.\n"
      ],
      "metadata": {
        "id": "71Hxoe6dLufu"
      }
    },
    {
      "cell_type": "code",
      "source": [
        "str = 'reddy'\n",
        "str.count('d')"
      ],
      "metadata": {
        "colab": {
          "base_uri": "https://localhost:8080/"
        },
        "id": "ak4DzTGBLBmp",
        "outputId": "5533f04f-3376-49be-da7c-75b5010ee0f3"
      },
      "execution_count": null,
      "outputs": [
        {
          "output_type": "execute_result",
          "data": {
            "text/plain": [
              "2"
            ]
          },
          "metadata": {},
          "execution_count": 23
        }
      ]
    },
    {
      "cell_type": "code",
      "source": [
        "def  isogram(str1):\n",
        "  for i in str1:\n",
        "    if str1.count(i)>1:\n",
        "      return True\n",
        "  return False"
      ],
      "metadata": {
        "id": "qRy3JobXL4Ys"
      },
      "execution_count": null,
      "outputs": []
    },
    {
      "cell_type": "code",
      "source": [
        "isogram('Consecutive')"
      ],
      "metadata": {
        "colab": {
          "base_uri": "https://localhost:8080/"
        },
        "id": "uB-mkr42Mdlk",
        "outputId": "01011017-d2d6-4f26-8ef7-f80ab853c3cc"
      },
      "execution_count": null,
      "outputs": [
        {
          "output_type": "execute_result",
          "data": {
            "text/plain": [
              "True"
            ]
          },
          "metadata": {},
          "execution_count": 27
        }
      ]
    },
    {
      "cell_type": "code",
      "source": [
        "isogram('Algorism')"
      ],
      "metadata": {
        "colab": {
          "base_uri": "https://localhost:8080/"
        },
        "id": "S46Z91bNMgg3",
        "outputId": "78d986df-f045-4e30-e1f9-066f51029200"
      },
      "execution_count": null,
      "outputs": [
        {
          "output_type": "execute_result",
          "data": {
            "text/plain": [
              "False"
            ]
          },
          "metadata": {},
          "execution_count": 28
        }
      ]
    },
    {
      "cell_type": "code",
      "source": [
        "isogram('PasSword')"
      ],
      "metadata": {
        "colab": {
          "base_uri": "https://localhost:8080/"
        },
        "id": "7ypokMBiM6qp",
        "outputId": "a237a03e-0da5-433e-df07-64435c5d88cb"
      },
      "execution_count": null,
      "outputs": [
        {
          "output_type": "execute_result",
          "data": {
            "text/plain": [
              "False"
            ]
          },
          "metadata": {},
          "execution_count": 29
        }
      ]
    },
    {
      "cell_type": "markdown",
      "source": [
        "Create a function that takes a string and returns True or False, depending on whether the\n",
        "characters are in order or not.\n",
        "Examples\n",
        "is_in_order('abc') ➞ True\n",
        "is_in_order('edabit') ➞ False\n",
        "is_in_order('123') ➞ True\n",
        "is_in_order('xyzz') ➞ True\n",
        "Notes\n",
        "You don't have to handle empty strings."
      ],
      "metadata": {
        "id": "cMEPQ5RoNen7"
      }
    },
    {
      "cell_type": "code",
      "source": [
        "def is_in_order(str):\n",
        "  str1 = sorted(str)\n",
        "  if str == \"\".join(str1):\n",
        "    print(True)\n",
        "  else:\n",
        "    print(False)\n",
        "  "
      ],
      "metadata": {
        "id": "Nhs9YWHTNAby"
      },
      "execution_count": 34,
      "outputs": []
    },
    {
      "cell_type": "code",
      "source": [
        "is_in_order('abc')"
      ],
      "metadata": {
        "colab": {
          "base_uri": "https://localhost:8080/"
        },
        "id": "Ino8Uk5wyFgL",
        "outputId": "b29d1483-61c7-424f-ed82-61a3275d0d6a"
      },
      "execution_count": 35,
      "outputs": [
        {
          "output_type": "stream",
          "name": "stdout",
          "text": [
            "True\n"
          ]
        }
      ]
    },
    {
      "cell_type": "code",
      "source": [
        "is_in_order('edabit')"
      ],
      "metadata": {
        "colab": {
          "base_uri": "https://localhost:8080/"
        },
        "id": "GMHAcrsLyNj7",
        "outputId": "6d65b117-0935-4b50-b9d9-7700812e9ecf"
      },
      "execution_count": 36,
      "outputs": [
        {
          "output_type": "stream",
          "name": "stdout",
          "text": [
            "False\n"
          ]
        }
      ]
    },
    {
      "cell_type": "code",
      "source": [
        "is_in_order('123')"
      ],
      "metadata": {
        "colab": {
          "base_uri": "https://localhost:8080/"
        },
        "id": "dP8UahuF0VXG",
        "outputId": "c651810f-1958-47ec-9924-2c1985d95f0c"
      },
      "execution_count": 37,
      "outputs": [
        {
          "output_type": "stream",
          "name": "stdout",
          "text": [
            "True\n"
          ]
        }
      ]
    },
    {
      "cell_type": "code",
      "source": [
        "is_in_order('xyzz') "
      ],
      "metadata": {
        "id": "3q5QwXQq2tgN",
        "outputId": "a2ac2501-664b-47c7-94b0-dc1e588b39bb",
        "colab": {
          "base_uri": "https://localhost:8080/"
        }
      },
      "execution_count": 38,
      "outputs": [
        {
          "output_type": "stream",
          "name": "stdout",
          "text": [
            "True\n"
          ]
        }
      ]
    },
    {
      "cell_type": "code",
      "source": [],
      "metadata": {
        "id": "D9ULYVOf2xjm"
      },
      "execution_count": null,
      "outputs": []
    }
  ]
}