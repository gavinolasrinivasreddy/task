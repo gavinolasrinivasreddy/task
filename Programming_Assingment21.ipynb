{
  "nbformat": 4,
  "nbformat_minor": 0,
  "metadata": {
    "colab": {
      "provenance": []
    },
    "kernelspec": {
      "name": "python3",
      "display_name": "Python 3"
    },
    "language_info": {
      "name": "python"
    }
  },
  "cells": [
    {
      "cell_type": "markdown",
      "source": [
        "Write a function that takes a list and a number as arguments. Add the number to the end of\n",
        "the list, then remove the first element of the list. The function should then return the updated\n",
        "list.\n",
        "next_in_line([5, 6, 7, 8, 9], 1) ➞ [6, 7, 8, 9, 1]\n",
        "next_in_line([7, 6, 3, 23, 17], 10) ➞ [6, 3, 23, 17, 10]\n",
        "next_in_line([1, 10, 20, 42 ], 6) ➞ [10, 20, 42, 6]\n",
        "next_in_line([], 6) ➞ &quot;No list has been selected&quot;"
      ],
      "metadata": {
        "id": "0XHXKVyUvv4T"
      }
    },
    {
      "cell_type": "code",
      "execution_count": 186,
      "metadata": {
        "id": "oThuXa-HvsxI"
      },
      "outputs": [],
      "source": [
        "l = [5, 6, 7, 8, 9]\n",
        "def new_list(l,num):\n",
        "    if len(l) > 0 :\n",
        "        l.append(num)\n",
        "        return l[1:]\n",
        "    else:\n",
        "        print(\"'No list has been selected'\")\n",
        "  \n",
        " \n",
        "  \n",
        "  "
      ]
    },
    {
      "cell_type": "code",
      "source": [
        "\n",
        "new_list([1, 10, 20, 42 ],6)\n",
        "\n"
      ],
      "metadata": {
        "colab": {
          "base_uri": "https://localhost:8080/"
        },
        "id": "0_v8A0yHxqve",
        "outputId": "d8e87f7f-9bf8-48a4-92a0-aec9be30e117"
      },
      "execution_count": 189,
      "outputs": [
        {
          "output_type": "execute_result",
          "data": {
            "text/plain": [
              "[10, 20, 42, 6]"
            ]
          },
          "metadata": {},
          "execution_count": 189
        }
      ]
    },
    {
      "cell_type": "markdown",
      "source": [
        "Create the function that takes a list of dictionaries and returns the sum of people&#39;s budgets.\n",
        "get_budgets([\n",
        "{ &quot;name&quot;: &quot;John&quot;, &quot;age&quot;: 21, &quot;budget&quot;: 23000 },\n",
        "{ &quot;name&quot;: &quot;Steve&quot;, &quot;age&quot;: 32, &quot;budget&quot;: 40000 },\n",
        "{ &quot;name&quot;: &quot;Martin&quot;, &quot;age&quot;: 16, &quot;budget&quot;: 2700 }\n",
        "])"
      ],
      "metadata": {
        "id": "bfrtKKHnENWU"
      }
    },
    {
      "cell_type": "code",
      "source": [
        "\n",
        "#dict1 = [ { \"name\": \"John\", \"age\": 21, \"budget\": 23000 }, { \"name\": \"Steve\", \"age\": 32, \"budget\": 40000 }, { \"name\": \"Martin\", \"age\": 16, \"budget\": 2700 } ]\n",
        "def budget(dict1):\n",
        " list =[]\n",
        " for dict in dict1:\n",
        "  list.append(dict[\"budget\"])\n",
        "\n",
        " print(sum(list))\n",
        "\n",
        "\n",
        "      \n",
        "\n"
      ],
      "metadata": {
        "id": "KTRa6iVtzWwL"
      },
      "execution_count": 112,
      "outputs": []
    },
    {
      "cell_type": "code",
      "source": [
        "dict1 = [ { \"name\": \"John\", \"age\": 21, \"budget\": 23000 }, { \"name\": \"Steve\", \"age\": 32, \"budget\": 40000 }, { \"name\": \"Martin\", \"age\": 16, \"budget\": 2700 } ]"
      ],
      "metadata": {
        "id": "RRnL8kT92MQC"
      },
      "execution_count": 113,
      "outputs": []
    },
    {
      "cell_type": "code",
      "source": [
        "budget(dict1)\n"
      ],
      "metadata": {
        "colab": {
          "base_uri": "https://localhost:8080/"
        },
        "id": "dig77kf-FQ4Y",
        "outputId": "993692ae-b956-4300-d23f-b61eda2d121e"
      },
      "execution_count": 114,
      "outputs": [
        {
          "output_type": "stream",
          "name": "stdout",
          "text": [
            "65700\n"
          ]
        }
      ]
    },
    {
      "cell_type": "markdown",
      "source": [
        "{ &quot;name&quot;: &quot;John&quot;, &quot;age&quot;: 21, &quot;budget&quot;: 29000 },\n",
        "{ &quot;name&quot;: &quot;Steve&quot;, &quot;age&quot;: 32, &quot;budget&quot;: 32000 },\n",
        "{ &quot;name&quot;: &quot;Martin&quot;, &quot;age&quot;: 16, &quot;budget&quot;: 1600 }"
      ],
      "metadata": {
        "id": "HFf2tGu-PQNw"
      }
    },
    {
      "cell_type": "code",
      "source": [
        "dict2 =[{ \"name\": \"John\", \"age\": 21, \"budget\": 29000 }, { \"name\": \"Steve\", \"age\": 32, \"budget\": 32000 }, { \"name\": \"Martin\", \"age\": 16, \"budget\": 1600 }]"
      ],
      "metadata": {
        "id": "q__9Cl8YKu12"
      },
      "execution_count": 116,
      "outputs": []
    },
    {
      "cell_type": "code",
      "source": [
        "budget(dict2)"
      ],
      "metadata": {
        "colab": {
          "base_uri": "https://localhost:8080/"
        },
        "id": "2MVI1LAcPZ9Q",
        "outputId": "58172b91-db88-46de-c36b-6300cb7ea2e1"
      },
      "execution_count": 117,
      "outputs": [
        {
          "output_type": "stream",
          "name": "stdout",
          "text": [
            "62600\n"
          ]
        }
      ]
    },
    {
      "cell_type": "markdown",
      "source": [
        "Create a function that takes a string and returns a string with its letters in alphabetical order.\n",
        "Examples\n",
        "alphabet_soup('hello') ➞ 'ehllo'\n",
        "alphabet_soup('edabit') ➞ 'abdeit'\n",
        "alphabet_soup('hacker') ➞ 'acehkr'\n",
        "alphabet_soup('geek') ➞ 'eegk'\n",
        "alphabet_soup('javascript') ➞ 'aacijprstv'\n"
      ],
      "metadata": {
        "id": "cNKC8DrO-1wh"
      }
    },
    {
      "cell_type": "code",
      "source": [
        "str = \"ydder\"\n",
        "sorted(str)"
      ],
      "metadata": {
        "colab": {
          "base_uri": "https://localhost:8080/"
        },
        "id": "nZLB7BbIPZ31",
        "outputId": "96195de8-0e16-4337-c5e9-51fa89939a9a"
      },
      "execution_count": 190,
      "outputs": [
        {
          "output_type": "execute_result",
          "data": {
            "text/plain": [
              "['d', 'd', 'e', 'r', 'y']"
            ]
          },
          "metadata": {},
          "execution_count": 190
        }
      ]
    },
    {
      "cell_type": "code",
      "source": [
        "def alphabet_soup(str1):\n",
        "  return \"\".join(sorted(str1))"
      ],
      "metadata": {
        "id": "_hr_iGCZ_Qfg"
      },
      "execution_count": 191,
      "outputs": []
    },
    {
      "cell_type": "code",
      "source": [
        "alphabet_soup('hello')"
      ],
      "metadata": {
        "colab": {
          "base_uri": "https://localhost:8080/",
          "height": 36
        },
        "id": "s0wdZJ2E_j4r",
        "outputId": "c9a9d52b-c3c0-426f-a0dd-12fb19004ff6"
      },
      "execution_count": 192,
      "outputs": [
        {
          "output_type": "execute_result",
          "data": {
            "text/plain": [
              "'ehllo'"
            ],
            "application/vnd.google.colaboratory.intrinsic+json": {
              "type": "string"
            }
          },
          "metadata": {},
          "execution_count": 192
        }
      ]
    },
    {
      "cell_type": "code",
      "source": [
        "alphabet_soup('edabit')"
      ],
      "metadata": {
        "colab": {
          "base_uri": "https://localhost:8080/",
          "height": 36
        },
        "id": "BhVHtW_k_rRe",
        "outputId": "f93a63f8-210a-4ddc-fde5-59203784713e"
      },
      "execution_count": 193,
      "outputs": [
        {
          "output_type": "execute_result",
          "data": {
            "text/plain": [
              "'abdeit'"
            ],
            "application/vnd.google.colaboratory.intrinsic+json": {
              "type": "string"
            }
          },
          "metadata": {},
          "execution_count": 193
        }
      ]
    },
    {
      "cell_type": "code",
      "source": [
        "alphabet_soup('hacker')"
      ],
      "metadata": {
        "colab": {
          "base_uri": "https://localhost:8080/",
          "height": 36
        },
        "id": "l2x6r84w_vOl",
        "outputId": "eb25a3eb-f8fe-4af7-df9a-407ec68aa76b"
      },
      "execution_count": 194,
      "outputs": [
        {
          "output_type": "execute_result",
          "data": {
            "text/plain": [
              "'acehkr'"
            ],
            "application/vnd.google.colaboratory.intrinsic+json": {
              "type": "string"
            }
          },
          "metadata": {},
          "execution_count": 194
        }
      ]
    },
    {
      "cell_type": "code",
      "source": [
        "alphabet_soup('geek')"
      ],
      "metadata": {
        "colab": {
          "base_uri": "https://localhost:8080/",
          "height": 36
        },
        "id": "c7Ln0YYl_0CO",
        "outputId": "9684e235-9b63-4c71-ae9e-e10564678a12"
      },
      "execution_count": 195,
      "outputs": [
        {
          "output_type": "execute_result",
          "data": {
            "text/plain": [
              "'eegk'"
            ],
            "application/vnd.google.colaboratory.intrinsic+json": {
              "type": "string"
            }
          },
          "metadata": {},
          "execution_count": 195
        }
      ]
    },
    {
      "cell_type": "code",
      "source": [
        "alphabet_soup('javascript')"
      ],
      "metadata": {
        "colab": {
          "base_uri": "https://localhost:8080/",
          "height": 36
        },
        "id": "EuyjCrDQ_41U",
        "outputId": "ddce0141-80de-4773-f9e7-4819b7977007"
      },
      "execution_count": 196,
      "outputs": [
        {
          "output_type": "execute_result",
          "data": {
            "text/plain": [
              "'aacijprstv'"
            ],
            "application/vnd.google.colaboratory.intrinsic+json": {
              "type": "string"
            }
          },
          "metadata": {},
          "execution_count": 196
        }
      ]
    },
    {
      "cell_type": "markdown",
      "source": [
        "Suppose that you invest $10,000 for 10 years at an interest rate of 6% compounded monthly.\n",
        "What will be the value of your investment at the end of the 10 year period?\n",
        "Create a function that accepts the principal p, the term in years t, the interest rate r, and the\n",
        "number of compounding periods per year n. The function returns the value at the end of term\n",
        "rounded to the nearest cent.\n",
        "For the example above:\n",
        "compound_interest(10000, 10, 0.06, 12) ➞ 18193.97\n",
        "Note that the interest rate is given as a decimal and n=12 because with monthly compounding\n",
        "there are 12 periods per year. Compounding can also be done annually, quarterly, weekly, or\n",
        "daily.\n",
        "Examples\n",
        "compound_interest(100, 1, 0.05, 1) ➞ 105.0\n",
        "compound_interest(3500, 15, 0.1, 4) ➞ 15399.26\n",
        "compound_interest(100000, 20, 0.15, 365) ➞ 2007316.26\n",
        "\n",
        "A = P(1+(r/n)**nt\n",
        "A\t=\tfinal amount\n",
        "P\t=\tinitial principal balance\n",
        "r\t=\tinterest rate\n",
        "n\t=\tnumber of times interest applied per time period\n",
        "t\t=\tnumber of time periods elapsed"
      ],
      "metadata": {
        "id": "spC6SfUsA6-l"
      }
    },
    {
      "cell_type": "code",
      "source": [
        "def compound_interest(amt,year,interest,compound_period):\n",
        "  finalamt= amt*(1+(interest/compound_period))**(year*compound_period)\n",
        "  return round(finalamt,2)"
      ],
      "metadata": {
        "id": "QzXEMC1V_8nv"
      },
      "execution_count": 197,
      "outputs": []
    },
    {
      "cell_type": "code",
      "source": [
        "compound_interest(100, 1, 0.05, 1)"
      ],
      "metadata": {
        "colab": {
          "base_uri": "https://localhost:8080/"
        },
        "id": "-NRT2T-BCh8d",
        "outputId": "ed536794-1449-47f2-dac7-fdb01a56d0a5"
      },
      "execution_count": 198,
      "outputs": [
        {
          "output_type": "execute_result",
          "data": {
            "text/plain": [
              "105.0"
            ]
          },
          "metadata": {},
          "execution_count": 198
        }
      ]
    },
    {
      "cell_type": "code",
      "source": [
        "compound_interest(100000, 20, 0.15, 365)"
      ],
      "metadata": {
        "colab": {
          "base_uri": "https://localhost:8080/"
        },
        "id": "BVZAY_wQCp7S",
        "outputId": "5d69b92f-5caa-41bc-d0ee-d38c59a8756d"
      },
      "execution_count": 199,
      "outputs": [
        {
          "output_type": "execute_result",
          "data": {
            "text/plain": [
              "2007316.26"
            ]
          },
          "metadata": {},
          "execution_count": 199
        }
      ]
    },
    {
      "cell_type": "code",
      "source": [
        "compound_interest(3500, 15, 0.1, 4)"
      ],
      "metadata": {
        "colab": {
          "base_uri": "https://localhost:8080/"
        },
        "id": "FXBQYvWcCuJU",
        "outputId": "10568991-9931-448c-e192-17fd186a1104"
      },
      "execution_count": 200,
      "outputs": [
        {
          "output_type": "execute_result",
          "data": {
            "text/plain": [
              "15399.26"
            ]
          },
          "metadata": {},
          "execution_count": 200
        }
      ]
    },
    {
      "cell_type": "markdown",
      "source": [
        "Write a function that takes a list of elements and returns only the integers.\n",
        "Examples\n",
        "return_only_integer([9, 2, 'space', 'car', 'lion', 16]) ➞ [9, 2, 16]\n",
        "return_only_integer(['hello', 81, 'basketball', 123, 'fox']) ➞ [81, 123]\n",
        "return_only_integer([10, '121', 56, 20, 'car', 3, 'lion']) ➞ [10, 56, 20, 3]\n",
        "return_only_integer(['String', True, 3.3, 1]) ➞ [1]"
      ],
      "metadata": {
        "id": "s5BTxPOCDIXP"
      }
    },
    {
      "cell_type": "code",
      "source": [
        "def returnint(list):\n",
        "    intlist = []\n",
        "    for i in list:\n",
        "        if type(i) == int:\n",
        "            intlist.append(i)\n",
        "    return intlist  "
      ],
      "metadata": {
        "id": "YqjHjy3PCzU_"
      },
      "execution_count": 201,
      "outputs": []
    },
    {
      "cell_type": "code",
      "source": [
        "returnint([9, 2, 'space', 'car', 'lion', 16])"
      ],
      "metadata": {
        "colab": {
          "base_uri": "https://localhost:8080/"
        },
        "id": "qvqTpfaLDZDZ",
        "outputId": "abc5b629-551e-4317-d901-f086751fc32a"
      },
      "execution_count": 202,
      "outputs": [
        {
          "output_type": "execute_result",
          "data": {
            "text/plain": [
              "[9, 2, 16]"
            ]
          },
          "metadata": {},
          "execution_count": 202
        }
      ]
    },
    {
      "cell_type": "code",
      "source": [
        "returnint(['hello', 81, 'basketball', 123, 'fox'])"
      ],
      "metadata": {
        "colab": {
          "base_uri": "https://localhost:8080/"
        },
        "id": "7v13K-EPDhmI",
        "outputId": "0539eb5f-d514-4dbf-a847-1aa5a5fdcd86"
      },
      "execution_count": 203,
      "outputs": [
        {
          "output_type": "execute_result",
          "data": {
            "text/plain": [
              "[81, 123]"
            ]
          },
          "metadata": {},
          "execution_count": 203
        }
      ]
    },
    {
      "cell_type": "code",
      "source": [
        "returnint([10, '121', 56, 20, 'car', 3, 'lion']) \n"
      ],
      "metadata": {
        "colab": {
          "base_uri": "https://localhost:8080/"
        },
        "id": "rqbp8pUrDrMy",
        "outputId": "613271e1-b39e-4da6-aa39-9e258e54e752"
      },
      "execution_count": 204,
      "outputs": [
        {
          "output_type": "execute_result",
          "data": {
            "text/plain": [
              "[10, 56, 20, 3]"
            ]
          },
          "metadata": {},
          "execution_count": 204
        }
      ]
    },
    {
      "cell_type": "code",
      "source": [
        "returnint(['String', True, 3.3, 1]) "
      ],
      "metadata": {
        "colab": {
          "base_uri": "https://localhost:8080/"
        },
        "id": "EqkVo5FkD1KS",
        "outputId": "eff58fdc-551b-4bfd-eb63-658922e068e5"
      },
      "execution_count": 205,
      "outputs": [
        {
          "output_type": "execute_result",
          "data": {
            "text/plain": [
              "[1]"
            ]
          },
          "metadata": {},
          "execution_count": 205
        }
      ]
    },
    {
      "cell_type": "code",
      "source": [],
      "metadata": {
        "id": "18yc73YbD6a5"
      },
      "execution_count": null,
      "outputs": []
    }
  ]
}